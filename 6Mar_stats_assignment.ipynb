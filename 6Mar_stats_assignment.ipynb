{
 "cells": [
  {
   "cell_type": "markdown",
   "id": "5a9f2f16-8f79-476c-92ae-518e6ea94ea3",
   "metadata": {},
   "source": [
    "## Q1. What is Statistics?"
   ]
  },
  {
   "cell_type": "raw",
   "id": "9780ee61-38e2-4312-a476-f5e341eddc45",
   "metadata": {},
   "source": [
    "Statistics is the science of collecting,organizing and analyzing the data.\n",
    "Data : Pieces or facts of information is called data.\n",
    "\n",
    "Example:\n",
    "1.Heights of students in class\n",
    "[120 cm,145 cm,175 cm.......]\n",
    "\n",
    "2.Weights of studentsin a class\n",
    "[85 kg, 78 kg, 34 kg.....]\n",
    "\n",
    "Aim of using statistics: Statistics can be used for decision making process.\n",
    "\n",
    "Example:\n",
    "There is an ATM at location A and we have to make decision whether we should a open new ATM on location B or not So in this \n",
    "statistics will be used to make predictions.It helps in analyzing the people visit in ATM A per hour,Number of transactions occurs in a day at ATM A."
   ]
  },
  {
   "cell_type": "markdown",
   "id": "27a86da2-8fb8-4ee5-9697-8f96564c0137",
   "metadata": {},
   "source": [
    "## Q2. Define the different types of statistics and give an example of when each type might be used."
   ]
  },
  {
   "cell_type": "raw",
   "id": "d52014f5-5059-497f-91f8-cca5573e1744",
   "metadata": {},
   "source": [
    "There are two types of statistics.\n",
    "\n",
    "1.Discrptive Statistics :\n",
    "        i. It consists of organizing and summarizing the data.\n",
    "        ii. Meaure of central tendency (Mean,Mode,Median)\n",
    "        iii.Measure of Dispersion (Variance,Satndard deviation)\n",
    "        iv. Histograms,barcharts,pie charts is used for showing data.\n",
    "        Example:\n",
    "        1.Let say there is a 50 students in a maths class in the University.we have collected the height of every student in a class.\n",
    "        [175 cm,160 cm,180 cm,185 cm,130 cm,175 cm,175 cm]\n",
    "        \n",
    "        Ques1: What is the average height of students in the class.\n",
    "        Ques2:What is the most common height?\n",
    "        \n",
    "\n",
    "2.Inferential Statistics :\n",
    "        i.It consists of using data to form conclusions\n",
    "        Sample -----> Conlusion ----->Population\n",
    "        \n",
    "        ii.using z-test\n",
    "        iii.using t-test\n",
    "        iv.Hypothesis Testing,p-value,Significance\n",
    "        Example:\n",
    "        1.Let say there is a 50 students in a maths class in the University.we have collected the height of every student in a class.\n",
    "        [175 cm,160 cm,180 cm,185 cm,130 cm,175 cm,175 cm]\n",
    "        \n",
    "        Ques : Are the Avg sample height of the students in the classroom similar to what you expect in the entire college.\n"
   ]
  },
  {
   "cell_type": "markdown",
   "id": "3fb7986c-81ee-4e51-a2b5-2b8168f47d9b",
   "metadata": {},
   "source": [
    "## Q3. What are the different types of data and how do they differ from each other? Provide an example of each type of data."
   ]
  },
  {
   "cell_type": "raw",
   "id": "58efa87c-94fc-48c0-9a8d-41e08e3f07e3",
   "metadata": {},
   "source": [
    "There are two types of data.\n",
    "1.Quantitative : It consist of numerical data\n",
    "It has further two types\n",
    "\n",
    "i.Discrete data:Whole number\n",
    "Example:1.No of children in family\n",
    "2.No of ATMs in a city\n",
    "\n",
    "ii.Continuous data:Continuous number\n",
    "Example :1.Heights of students in the class\n",
    "2.Length of the river\n",
    "\n",
    "\n",
    "\n",
    "2.Quanlitative Data:It consists of categorical data.\n",
    "It has further two Types\n",
    "\n",
    "i.Nominal Data :Category\n",
    "Example:1.Gender\n",
    "2.Marital Status\n",
    "\n",
    "ii.Ordinal Data:Rank\n",
    "Example : 1.Good,Bad,satisfactory\n",
    "2.Grades\n"
   ]
  },
  {
   "cell_type": "markdown",
   "id": "c2562d40-efe5-44de-8521-728822509bda",
   "metadata": {},
   "source": [
    "## Q4. Categorise the following datasets with respect to quantitative and qualitative data types:\n",
    "- (i) Grading in exam: A+, A, B+, B, C+, C, D, E\n",
    "- (ii) Colour of mangoes: yellow, green, orange, red\n",
    "- (iii) Height data of a class: [178.9, 179, 179.5, 176, 177.2, 178.3, 175.8,...]\n",
    "- (iv) Number of mangoes exported by a farm: [500, 600, 478, 672, ...]"
   ]
  },
  {
   "cell_type": "markdown",
   "id": "b32a232c-87a3-4c10-bf05-ca07c1300d6c",
   "metadata": {},
   "source": [
    "- (i) Grading in exam: A+, A, B+, B, C+, C, D, E - (Qualitative Data type)\n",
    "\n",
    "- (ii) Colour of mangoes: yellow, green, orange, red - (Qualitative Data type)\n",
    "\n",
    "- (iii) Height data of a class: [178.9, 179, 179.5, 176, 177.2, 178.3, 175.8,...]  - (Quantitaive Data type)\n",
    "\n",
    "- (iv) Number of mangoes exported by a farm: [500, 600, 478, 672, ...] - (Quantitaive Data type)"
   ]
  },
  {
   "cell_type": "markdown",
   "id": "3d75faec-7d81-4657-a1f2-332cce4a26a0",
   "metadata": {},
   "source": [
    "## Q5. Explain the concept of levels of measurement and give an example of a variable for each level."
   ]
  },
  {
   "cell_type": "raw",
   "id": "2ec19367-7837-461f-bc51-fc56b857c08e",
   "metadata": {},
   "source": [
    "There are Four levels of measurement of Data.\n",
    "\n",
    "1.Nominal Scale Data :\n",
    "    i.Qualitative/categorical value\n",
    "    ii.Gender,color,labels\n",
    "    iii.Order does not matter\n",
    "    iv.Example:\n",
    "        In a Surevey of 10 people based on there color preferences \n",
    "        Red =5 people\n",
    "        Blue = 3 people\n",
    "        Yellow= 2 people\n",
    "        \n",
    "In this we can't say Red>Blue>yellow.\n",
    "\n",
    "2.Ordinal Scale data :\n",
    "     i.Qualitative/categorical value\n",
    "     ii.Ranking and orders matters\n",
    "     iii.Difference cannot be measured\n",
    "     iv.Example:\n",
    "        Qualification       Rank\n",
    "        PHD                  1\n",
    "        BE                   2\n",
    "        Masters              3\n",
    "        B.com                4\n",
    "        \n",
    "        \n",
    "3.Interval Scale Data:\n",
    "    i.Quantitative/Numerical Data\n",
    "    ii.Rank and orders matters.\n",
    "    iii.Difference can be measured excluding ratios.\n",
    "    iv.Does not \"0\" starting value it can also be negative.\n",
    "    v.Example:\n",
    "        Temperature         Rank\n",
    "            30F               4\n",
    "            60F               3 \n",
    "            90F               1\n",
    "            80F               2\n",
    "            \n",
    "Ratio: 60/30 = 2:1\n",
    "\n",
    "In this we can't say what you feel in 30F the double you feel in 60F whether it is hot or cold.\n",
    "\n",
    "4.Ratio sacle Data:\n",
    "    i.Quantitative/Numerical Data\n",
    "    ii.Rank and orders matters.\n",
    "    iii.Difference and ratios can be measured.\n",
    "    iv.Does have a \"0\" starting point.\n",
    "    v.Example:\n",
    "        Grades              Rank\n",
    "        100                  1\n",
    "        60                   5              \n",
    "        85                   3\n",
    "        90                   2\n",
    "        0                    7\n",
    "        61                   4\n",
    "        50                   6\n",
    "        \n",
    "        \n",
    "Ratio : 100/50 = 2:1\n",
    "\n",
    "In this,we can say that the students is scored \"100\" marks is the double of the student scored \"50\" marks."
   ]
  },
  {
   "cell_type": "markdown",
   "id": "9d042a59-3d4f-43bb-b512-253f1869122d",
   "metadata": {},
   "source": [
    "## Q6. Why is it important to understand the level of measurement when analyzing data? Provide an example to illustrate your answer."
   ]
  },
  {
   "cell_type": "raw",
   "id": "202a0aa2-a1c1-4d5f-9ffb-f9b0a543e123",
   "metadata": {},
   "source": [
    "Understanding the level of measurement is crucial in data analysis because it determines the type of statistical analysis that can be performed. Different levels (nominal, ordinal, interval, ratio) have different properties and constraints. \n",
    "\n",
    "For instance, nominal data only categorizes without any inherent order, while ratio data allows for meaningful mathematical operations like multiplication and division. If you mistake nominal data for ratio data, you might erroneously calculate averages, leading to incorrect conclusions. For example, treating \"types of cars\" (nominal) as \"fuel efficiency ratings\" (ratio) could lead to flawed analysis and decisions."
   ]
  },
  {
   "cell_type": "markdown",
   "id": "ae4cd0da-38cc-4147-965e-89af8ac78007",
   "metadata": {},
   "source": [
    "## Q7. How nominal data type is different from ordinal data type."
   ]
  },
  {
   "cell_type": "code",
   "execution_count": null,
   "id": "91e325cc-df1e-4144-ade9-d069b9ec0cde",
   "metadata": {},
   "outputs": [],
   "source": [
    "These both are categorical data type.\n",
    "It has further two Types\n",
    "\n",
    "i.Nominal Data :Category\n",
    "Example:1.Gender\n",
    "2.Marital Status\n",
    "\n",
    "ii.Ordinal Data:Rank\n",
    "Example : 1.Good,Bad,satisfactory\n",
    "2.Grades\n"
   ]
  },
  {
   "cell_type": "markdown",
   "id": "7400acc4-6f51-4430-a135-b733aa2743a9",
   "metadata": {},
   "source": [
    "## Q8. Which type of plot can be used to display data in terms of range?"
   ]
  },
  {
   "cell_type": "raw",
   "id": "8ff8db81-e552-44ac-8a09-8f623ee23bd3",
   "metadata": {},
   "source": [
    "A box plot, also known as a box-and-whisker plot, is commonly used to display data in terms of range. This plot presents a summary of the distribution of a dataset, including the minimum, first quartile, median, third quartile, and maximum values. The \"box\" represents the interquartile range (the middle 50% of the data), while the \"whiskers\" extend to the minimum and maximum values, indicating the range of the data. Box plots are useful for visually comparing the spread and central tendency of different datasets."
   ]
  },
  {
   "cell_type": "markdown",
   "id": "251821d4-8104-483a-9203-f34f356b5af6",
   "metadata": {},
   "source": [
    "## Q9. Describe the difference between descriptive and inferential statistics. Give an example of each type of statistics and explain how they are used."
   ]
  },
  {
   "cell_type": "raw",
   "id": "d464d12f-b6e6-4194-8fdc-f47df7701bb7",
   "metadata": {},
   "source": [
    "There are two types of statistics.\n",
    "\n",
    "1.Discrptive Statistics : \n",
    "       i. It consists of organizing and summarizing the data.\n",
    "       ii. Meaure of central tendency (Mean,Mode,Median)\n",
    "       iii.Measure of Dispersion (Variance,Satndard deviation)\n",
    "       iv. Histograms,barcharts,pie charts is used for showing data.\n",
    "       Example:\n",
    "       1.Let say there is a 50 students in a maths class in the University.we have collected the height of every student in a class.\n",
    "       [175 cm,160 cm,180 cm,185 cm,130 cm,175 cm,175 cm]\n",
    "\n",
    "       Ques1: What is the average height of students in the class.\n",
    "       Ques2:What is the most common height?\n",
    "        \n",
    "\n",
    "2.Inferential Statistics :\n",
    "         i.It consists of using data to form conclusions\n",
    "         Sample -----> Conlusion ----->Population\n",
    "        \n",
    "         ii.using z-test\n",
    "         iii.using t-test\n",
    "         iv.Hypothesis Testing,p-value,Significance\n",
    "         Example:\n",
    "         1.Let say there is a 50 students in a maths class in the University.we have collected the height of every student in a class.\n",
    "         [175 cm,160 cm,180 cm,185 cm,130 cm,175 cm,175 cm]\n",
    "         \n",
    "         Ques : Are the Avg sample height of the students in the classroom similar to what you expect in the entire college."
   ]
  },
  {
   "cell_type": "markdown",
   "id": "7bdf6b31-8817-44a4-b9c2-e6619c04de7e",
   "metadata": {},
   "source": [
    "## Q10. What are some common measures of central tendency and variability used in statistics? Explain how each measure can be used to describe a dataset."
   ]
  },
  {
   "cell_type": "raw",
   "id": "a6711ff1-06f7-48a4-b3c6-c82e34727604",
   "metadata": {},
   "source": [
    "Common measures of central tendency in statistics include the mean, median, and mode:\n",
    "\n",
    "1. Mean: The mean is the average of a dataset and is calculated by adding up all the values and dividing by the number of values. It provides a measure of the center of the dataset and is sensitive to extreme values.\n",
    "\n",
    "2. Median: The median is the middle value in a dataset when the values are arranged in ascending or descending order. If there is an even number of values, the median is the average of the two middle values. It is less sensitive to extreme values compared to the mean and provides a robust measure of central tendency.\n",
    "\n",
    "3. Mode: The mode is the value that occurs most frequently in a dataset. It is useful for categorical or discrete data and can be used to identify the most common category or value.\n",
    "\n",
    "Measures of variability include range, variance, and standard deviation:\n",
    "\n",
    "1. Range: The range is the difference between the maximum and minimum values in a dataset. It provides a simple measure of the spread of the data but can be sensitive to outliers.\n",
    "\n",
    "2. Variance: The variance measures the average squared deviation of each value from the mean. It provides a measure of the dispersion of the data points around the mean. A higher variance indicates greater variability in the dataset.\n",
    "\n",
    "3. Standard Deviation: The standard deviation is the square root of the variance. It provides a measure of the average distance of data points from the mean. Like variance, a higher standard deviation indicates greater variability in the dataset.\n",
    "\n",
    "These measures help describe the central tendency and spread of data, providing insights into the distribution and characteristics of the dataset."
   ]
  }
 ],
 "metadata": {
  "kernelspec": {
   "display_name": "Python 3 (ipykernel)",
   "language": "python",
   "name": "python3"
  },
  "language_info": {
   "codemirror_mode": {
    "name": "ipython",
    "version": 3
   },
   "file_extension": ".py",
   "mimetype": "text/x-python",
   "name": "python",
   "nbconvert_exporter": "python",
   "pygments_lexer": "ipython3",
   "version": "3.10.8"
  }
 },
 "nbformat": 4,
 "nbformat_minor": 5
}
